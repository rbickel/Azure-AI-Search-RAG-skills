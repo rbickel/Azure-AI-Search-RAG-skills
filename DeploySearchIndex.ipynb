{
 "cells": [
  {
   "cell_type": "markdown",
   "metadata": {},
   "source": [
    "### asdadsadasdasd\n",
    "asdasdasd"
   ]
  },
  {
   "cell_type": "code",
   "execution_count": 5,
   "metadata": {
    "vscode": {
     "languageId": "shellscript"
    }
   },
   "outputs": [],
   "source": [
    "# Azure AI Search\n",
    "RESOURCE_GROUP = \"AI\"\n",
    "AZURE_SEARCH_RESOURCE_NAME = \"rbklsearch\"\n",
    "\n",
    "# Azure Open AI\n",
    "AOAI_KEY = \"\"\n",
    "AOAI_ENDPOINT = \"\"\n",
    "AOAI_MODEL = \"\""
   ]
  },
  {
   "cell_type": "code",
   "execution_count": 9,
   "metadata": {
    "vscode": {
     "languageId": "powershell"
    }
   },
   "outputs": [
    {
     "ename": "SyntaxError",
     "evalue": "invalid syntax (4148968400.py, line 1)",
     "output_type": "error",
     "traceback": [
      "\u001b[1;36m  Cell \u001b[1;32mIn[9], line 1\u001b[1;36m\u001b[0m\n\u001b[1;33m    az deployment group create --resource-group $RESOURCE_GROUP --template-file azuresearch.bicep --parameters azureAiSearchName=$AZURE_SEARCH_RESOURCE_NAME\u001b[0m\n\u001b[1;37m       ^\u001b[0m\n\u001b[1;31mSyntaxError\u001b[0m\u001b[1;31m:\u001b[0m invalid syntax\n"
     ]
    }
   ],
   "source": [
    "az deployment group create --resource-group $RESOURCE_GROUP --template-file azuresearch.bicep --parameters azureAiSearchName=$AZURE_SEARCH_RESOURCE_NAME"
   ]
  },
  {
   "cell_type": "code",
   "execution_count": null,
   "metadata": {
    "vscode": {
     "languageId": "shellscript"
    }
   },
   "outputs": [],
   "source": []
  }
 ],
 "metadata": {
  "kernelspec": {
   "display_name": "Python 3",
   "language": "python",
   "name": "python3"
  },
  "language_info": {
   "codemirror_mode": {
    "name": "ipython",
    "version": 3
   },
   "file_extension": ".py",
   "mimetype": "text/x-python",
   "name": "python",
   "nbconvert_exporter": "python",
   "pygments_lexer": "ipython3",
   "version": "3.11.9"
  }
 },
 "nbformat": 4,
 "nbformat_minor": 2
}
